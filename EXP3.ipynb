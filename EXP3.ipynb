{
 "cells": [
  {
   "cell_type": "code",
   "execution_count": 2,
   "id": "36ade251",
   "metadata": {},
   "outputs": [],
   "source": [
    "import cv2\n",
    "img=cv2.imread(\"Light-Yagami.jpg\",1)\n",
    "cv2.imshow(\"original\",img)\n",
    "\n",
    "hsv_bgr=cv2.cvtColor(img,cv2.COLOR_BGR2HSV)\n",
    "cv2.imshow(\"BGR to HSV\",hsv_bgr)\n",
    "\n",
    "hsv_rgb= cv2.cvtColor(img,cv2.COLOR_RGB2HSV)\n",
    "cv2.imshow('RGB to HSV',hsv_rgb)\n",
    "\n",
    "gray_bgr= cv2.cvtColor(img,cv2.COLOR_BGR2GRAY)\n",
    "cv2.imshow('BGR2GRAY',gray_bgr)\n",
    "\n",
    "gray_rgb= cv2.cvtColor(img,cv2.COLOR_RGB2GRAY)\n",
    "cv2.imshow('RGB2GRAY',gray_rgb)\n",
    "\n",
    "cv2.waitKey(0)\n",
    "cv2.destroyAllWindows()"
   ]
  },
  {
   "cell_type": "code",
   "execution_count": 3,
   "id": "09efa59e",
   "metadata": {},
   "outputs": [],
   "source": [
    "img2 = cv2.imread(\"Light-Yagami.jpg\")\n",
    "\n",
    "hsv = cv2.cvtColor(img2, cv2.COLOR_BGR2HSV)\n",
    "cv2.imshow(\"hsv_image\", hsv)\n",
    "\n",
    "hsv_rgb = cv2.cvtColor(hsv, cv2.COLOR_HSV2RGB)\n",
    "cv2.imshow(\"hsv to rgb\", hsv_rgb)\n",
    "\n",
    "hsv_bgr = cv2.cvtColor(hsv, cv2.COLOR_HSV2BGR)\n",
    "cv2.imshow(\"hsv to bgr\", hsv_bgr)\n",
    "\n",
    "cv2.waitKey(0)\n",
    "cv2.destroyAllWindows()"
   ]
  },
  {
   "cell_type": "code",
   "execution_count": 6,
   "id": "a6765203",
   "metadata": {},
   "outputs": [],
   "source": [
    "import cv2\n",
    "img3 = cv2.imread(\"Light-Yagami.jpg\")\n",
    "\n",
    "cv2.imshow(\"original(bgr)\", img3)\n",
    "img_ycrcb = cv2.cvtColor(img3 , cv2.COLOR_BGR2YCrCb)\n",
    "cv2.imshow(\"bgr to YCrCb \", img_ycrcb)\n",
    "\n",
    "img_rgb = cv2.cvtColor(img3, cv2.COLOR_BGR2RGB)\n",
    "cv2.imshow(\"rgb\", img_rgb)\n",
    "img_bgr_y = cv2.cvtColor(img_rgb, cv2.COLOR_BGR2YCrCb)\n",
    "cv2.imshow(\"rgb to YCrCb\", img_bgr_y)\n",
    "cv2.waitKey(0)\n",
    "cv2.destroyAllWindows()"
   ]
  },
  {
   "cell_type": "code",
   "execution_count": 8,
   "id": "36673111",
   "metadata": {},
   "outputs": [],
   "source": [
    "img4 = cv2.imread(\"kenma.jpg\")\n",
    "\n",
    "b,g,r = cv2.split(img4)\n",
    "cv2.imshow(\"red model\", r)\n",
    "cv2.imshow(\"green model\", g)\n",
    "cv2.imshow(\"blue model \", b)\n",
    "\n",
    "merger = cv2.merge([b,g,r])\n",
    "cv2.imshow(\"merged\", merger )\n",
    "cv2.waitKey(0)\n",
    "cv2.destroyAllWindows()"
   ]
  },
  {
   "cell_type": "code",
   "execution_count": 10,
   "id": "7a749d60",
   "metadata": {},
   "outputs": [],
   "source": [
    "img5 = cv2.imread(\"armin.jpg\")\n",
    "\n",
    "hsv = cv2.cvtColor(img5 , cv2.COLOR_BGR2HSV)\n",
    "cv2.imshow(\"initial hsv \", hsv)\n",
    "\n",
    "h,s,v = cv2.split(hsv)\n",
    "cv2.imshow(\"hue model\", h)\n",
    "cv2.imshow(\"saturation model\", s)\n",
    "cv2.imshow(\"value model \", v)\n",
    "\n",
    "merger = cv2.merge([h,s,v])\n",
    "cv2.imshow(\"merged image\", merger )\n",
    "cv2.waitKey(0)\n",
    "cv2.destroyAllWindows()"
   ]
  },
  {
   "cell_type": "code",
   "execution_count": null,
   "id": "c847f36c",
   "metadata": {},
   "outputs": [],
   "source": []
  }
 ],
 "metadata": {
  "kernelspec": {
   "display_name": "Python 3 (ipykernel)",
   "language": "python",
   "name": "python3"
  },
  "language_info": {
   "codemirror_mode": {
    "name": "ipython",
    "version": 3
   },
   "file_extension": ".py",
   "mimetype": "text/x-python",
   "name": "python",
   "nbconvert_exporter": "python",
   "pygments_lexer": "ipython3",
   "version": "3.9.13"
  }
 },
 "nbformat": 4,
 "nbformat_minor": 5
}
